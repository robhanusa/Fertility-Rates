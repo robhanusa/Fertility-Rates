{
 "cells": [
  {
   "cell_type": "markdown",
   "id": "54bc6ed1",
   "metadata": {},
   "source": [
    "# Predicting fertility rates \n",
    "This project will use machine learning to predict fertility rates based on several factors. This data is taken via Google Bigquery from a subset of the World Health Organization's public database."
   ]
  },
  {
   "cell_type": "code",
   "execution_count": 3,
   "id": "17d2b88d",
   "metadata": {},
   "outputs": [],
   "source": [
    "#import libraries\n",
    "import pandas as pd\n",
    "import numpy as np\n",
    "import matplotlib.pyplot as plt\n",
    "import seaborn as sns"
   ]
  },
  {
   "cell_type": "markdown",
   "id": "9a8fc435",
   "metadata": {},
   "source": [
    "## Import Data\n",
    "Data contains health metrics from countries around the world in 2010. Region information has been added"
   ]
  },
  {
   "cell_type": "code",
   "execution_count": 59,
   "id": "9523b491",
   "metadata": {},
   "outputs": [
    {
     "data": {
      "text/html": [
       "<div>\n",
       "<style scoped>\n",
       "    .dataframe tbody tr th:only-of-type {\n",
       "        vertical-align: middle;\n",
       "    }\n",
       "\n",
       "    .dataframe tbody tr th {\n",
       "        vertical-align: top;\n",
       "    }\n",
       "\n",
       "    .dataframe thead th {\n",
       "        text-align: right;\n",
       "    }\n",
       "</style>\n",
       "<table border=\"1\" class=\"dataframe\">\n",
       "  <thead>\n",
       "    <tr style=\"text-align: right;\">\n",
       "      <th></th>\n",
       "      <th>country_name</th>\n",
       "      <th>indicator_name</th>\n",
       "      <th>value</th>\n",
       "    </tr>\n",
       "  </thead>\n",
       "  <tbody>\n",
       "    <tr>\n",
       "      <th>0</th>\n",
       "      <td>Greenland</td>\n",
       "      <td>Age at first marriage, female</td>\n",
       "      <td>31.2</td>\n",
       "    </tr>\n",
       "    <tr>\n",
       "      <th>1</th>\n",
       "      <td>Belize</td>\n",
       "      <td>Age at first marriage, female</td>\n",
       "      <td>28.6</td>\n",
       "    </tr>\n",
       "    <tr>\n",
       "      <th>2</th>\n",
       "      <td>Bermuda</td>\n",
       "      <td>Age at first marriage, female</td>\n",
       "      <td>30.6</td>\n",
       "    </tr>\n",
       "    <tr>\n",
       "      <th>3</th>\n",
       "      <td>Eswatini</td>\n",
       "      <td>Age at first marriage, female</td>\n",
       "      <td>26.2</td>\n",
       "    </tr>\n",
       "    <tr>\n",
       "      <th>4</th>\n",
       "      <td>Afghanistan</td>\n",
       "      <td>Age at first marriage, female</td>\n",
       "      <td>21.5</td>\n",
       "    </tr>\n",
       "  </tbody>\n",
       "</table>\n",
       "</div>"
      ],
      "text/plain": [
       "  country_name                 indicator_name value\n",
       "0    Greenland  Age at first marriage, female  31.2\n",
       "1       Belize  Age at first marriage, female  28.6\n",
       "2      Bermuda  Age at first marriage, female  30.6\n",
       "3     Eswatini  Age at first marriage, female  26.2\n",
       "4  Afghanistan  Age at first marriage, female  21.5"
      ]
     },
     "execution_count": 59,
     "metadata": {},
     "output_type": "execute_result"
    }
   ],
   "source": [
    "data = pd.read_csv('WorldHealthFertilityRates2010.csv', usecols=['country_name','indicator_name','value'])\n",
    "data.head()"
   ]
  },
  {
   "cell_type": "markdown",
   "id": "e6fb5299",
   "metadata": {},
   "source": [
    "We see the data is in long form, which we'll have to change for some analysis. The indicator names are also long and contain characters such as spaces and commas, which will make things difficult in further analysis. We'll adjust the indicator names."
   ]
  },
  {
   "cell_type": "code",
   "execution_count": 60,
   "id": "0e78b02b",
   "metadata": {},
   "outputs": [
    {
     "name": "stdout",
     "output_type": "stream",
     "text": [
      "['afm' 'lrd' 'nam' 'fr' 'rpop' 'lff' 'ue' 'setf' 'mri' 'bss' 'con' 'cex'\n",
      " 'Region']\n"
     ]
    }
   ],
   "source": [
    "data = data.replace({'indicator_name':{'Age at first marriage, female':'afm',\n",
    "                                    'Lifetime risk of maternal death (%)':'lrd',\n",
    "                                    'Nurses and midwives (per 1,000 people)':'nam',\n",
    "                                    'Fertility rate, total (births per woman)':'fr',\n",
    "                                    'Rural population (% of total population)':'rpop',\n",
    "                                    'Labor force, female (% of total labor force)':'lff',\n",
    "                                    'Unemployment, total (% of total labor force)':'ue',\n",
    "                                    'School enrollment, tertiary, female (% gross)':'setf',\n",
    "                                    'Mortality rate, infant (per 1,000 live births)':'mri',\n",
    "                                    'Births attended by skilled health staff (% of total)':'bss',\n",
    "                                    'Contraceptive prevalence, any methods (% of women ages 15-49)': 'con',\n",
    "                                    'Risk of catastrophic expenditure for surgical care (% of people at risk)':'cex'\n",
    "                    }})\n",
    "\n",
    "#check that it was successful. The 'Region' indicator name is short enough we can leave it as it is\n",
    "print(data.indicator_name.unique())"
   ]
  },
  {
   "cell_type": "markdown",
   "id": "19ee17d0",
   "metadata": {},
   "source": [
    "Convert to wide form as this will help us further calculations"
   ]
  },
  {
   "cell_type": "code",
   "execution_count": 61,
   "id": "10b61dbe",
   "metadata": {},
   "outputs": [],
   "source": [
    "data = data.pivot(index = 'country_name',columns = 'indicator_name')\n",
    "data.columns = data.columns.droplevel(0)"
   ]
  },
  {
   "cell_type": "markdown",
   "id": "e9284d6c",
   "metadata": {},
   "source": [
    "Since we interested in fertility rate ('fr'), I'll immediately drop rows where 'fr' == NaN"
   ]
  },
  {
   "cell_type": "code",
   "execution_count": 62,
   "id": "fbbbb562",
   "metadata": {},
   "outputs": [],
   "source": [
    "data.dropna(subset = ['fr'], inplace = True)"
   ]
  },
  {
   "cell_type": "markdown",
   "id": "fd344691",
   "metadata": {},
   "source": [
    "## Explore and Clean\n",
    "Check data type of each variable"
   ]
  },
  {
   "cell_type": "code",
   "execution_count": 63,
   "id": "d5a61b5b",
   "metadata": {},
   "outputs": [
    {
     "data": {
      "text/plain": [
       "indicator_name\n",
       "Region    object\n",
       "afm       object\n",
       "bss       object\n",
       "cex       object\n",
       "con       object\n",
       "fr        object\n",
       "lff       object\n",
       "lrd       object\n",
       "mri       object\n",
       "nam       object\n",
       "rpop      object\n",
       "setf      object\n",
       "ue        object\n",
       "dtype: object"
      ]
     },
     "execution_count": 63,
     "metadata": {},
     "output_type": "execute_result"
    }
   ],
   "source": [
    "data.dtypes"
   ]
  },
  {
   "cell_type": "markdown",
   "id": "d74997dc",
   "metadata": {},
   "source": [
    "Convert everything except region to numeric"
   ]
  },
  {
   "cell_type": "code",
   "execution_count": 64,
   "id": "d9800d93",
   "metadata": {},
   "outputs": [
    {
     "data": {
      "text/plain": [
       "indicator_name\n",
       "Region     object\n",
       "afm       float64\n",
       "bss       float64\n",
       "cex       float64\n",
       "con       float64\n",
       "fr        float64\n",
       "lff       float64\n",
       "lrd       float64\n",
       "mri       float64\n",
       "nam       float64\n",
       "rpop      float64\n",
       "setf      float64\n",
       "ue        float64\n",
       "dtype: object"
      ]
     },
     "execution_count": 64,
     "metadata": {},
     "output_type": "execute_result"
    }
   ],
   "source": [
    "numeric_vars = ['afm', 'lrd', 'nam', 'fr', 'rpop', 'lff', 'ue', 'setf', 'mri', 'bss', 'con', 'cex']\n",
    "data[numeric_vars] = data[numeric_vars].apply(pd.to_numeric)\n",
    "data.dtypes"
   ]
  },
  {
   "cell_type": "markdown",
   "id": "b7ff74c3",
   "metadata": {},
   "source": [
    "## Convert fertility rate data to 2 categories\n",
    "In this analysis we want to compare characteristics of countries on the basis of whether the fertility rate is above or below the replacement rate (2.1), so we will re-code the variable 'fr' with 1: fr >= 2.1, 0: < 2.1"
   ]
  },
  {
   "cell_type": "code",
   "execution_count": 65,
   "id": "fdbac463",
   "metadata": {},
   "outputs": [
    {
     "data": {
      "text/html": [
       "<div>\n",
       "<style scoped>\n",
       "    .dataframe tbody tr th:only-of-type {\n",
       "        vertical-align: middle;\n",
       "    }\n",
       "\n",
       "    .dataframe tbody tr th {\n",
       "        vertical-align: top;\n",
       "    }\n",
       "\n",
       "    .dataframe thead th {\n",
       "        text-align: right;\n",
       "    }\n",
       "</style>\n",
       "<table border=\"1\" class=\"dataframe\">\n",
       "  <thead>\n",
       "    <tr style=\"text-align: right;\">\n",
       "      <th>indicator_name</th>\n",
       "      <th>Region</th>\n",
       "      <th>afm</th>\n",
       "      <th>bss</th>\n",
       "      <th>cex</th>\n",
       "      <th>con</th>\n",
       "      <th>fr</th>\n",
       "      <th>lff</th>\n",
       "      <th>lrd</th>\n",
       "      <th>mri</th>\n",
       "      <th>nam</th>\n",
       "      <th>rpop</th>\n",
       "      <th>setf</th>\n",
       "      <th>ue</th>\n",
       "    </tr>\n",
       "    <tr>\n",
       "      <th>country_name</th>\n",
       "      <th></th>\n",
       "      <th></th>\n",
       "      <th></th>\n",
       "      <th></th>\n",
       "      <th></th>\n",
       "      <th></th>\n",
       "      <th></th>\n",
       "      <th></th>\n",
       "      <th></th>\n",
       "      <th></th>\n",
       "      <th></th>\n",
       "      <th></th>\n",
       "      <th></th>\n",
       "    </tr>\n",
       "  </thead>\n",
       "  <tbody>\n",
       "    <tr>\n",
       "      <th>Afghanistan</th>\n",
       "      <td>Asia</td>\n",
       "      <td>21.5</td>\n",
       "      <td>34.3</td>\n",
       "      <td>NaN</td>\n",
       "      <td>21.8</td>\n",
       "      <td>1</td>\n",
       "      <td>15.479167</td>\n",
       "      <td>6.039311</td>\n",
       "      <td>64.1</td>\n",
       "      <td>NaN</td>\n",
       "      <td>76.263</td>\n",
       "      <td>NaN</td>\n",
       "      <td>11.52</td>\n",
       "    </tr>\n",
       "    <tr>\n",
       "      <th>Albania</th>\n",
       "      <td>Europe</td>\n",
       "      <td>NaN</td>\n",
       "      <td>NaN</td>\n",
       "      <td>NaN</td>\n",
       "      <td>NaN</td>\n",
       "      <td>0</td>\n",
       "      <td>42.444072</td>\n",
       "      <td>0.033876</td>\n",
       "      <td>11.8</td>\n",
       "      <td>4.0183</td>\n",
       "      <td>47.837</td>\n",
       "      <td>51.571091</td>\n",
       "      <td>14.09</td>\n",
       "    </tr>\n",
       "    <tr>\n",
       "      <th>Algeria</th>\n",
       "      <td>Africa</td>\n",
       "      <td>NaN</td>\n",
       "      <td>NaN</td>\n",
       "      <td>16.6</td>\n",
       "      <td>NaN</td>\n",
       "      <td>1</td>\n",
       "      <td>16.882805</td>\n",
       "      <td>0.344174</td>\n",
       "      <td>23.6</td>\n",
       "      <td>1.9470</td>\n",
       "      <td>32.460</td>\n",
       "      <td>35.421070</td>\n",
       "      <td>9.96</td>\n",
       "    </tr>\n",
       "    <tr>\n",
       "      <th>Andorra</th>\n",
       "      <td>Europe</td>\n",
       "      <td>NaN</td>\n",
       "      <td>NaN</td>\n",
       "      <td>NaN</td>\n",
       "      <td>NaN</td>\n",
       "      <td>0</td>\n",
       "      <td>NaN</td>\n",
       "      <td>NaN</td>\n",
       "      <td>4.3</td>\n",
       "      <td>4.7650</td>\n",
       "      <td>11.181</td>\n",
       "      <td>NaN</td>\n",
       "      <td>NaN</td>\n",
       "    </tr>\n",
       "    <tr>\n",
       "      <th>Angola</th>\n",
       "      <td>Africa</td>\n",
       "      <td>NaN</td>\n",
       "      <td>NaN</td>\n",
       "      <td>27.2</td>\n",
       "      <td>NaN</td>\n",
       "      <td>1</td>\n",
       "      <td>49.850111</td>\n",
       "      <td>2.151459</td>\n",
       "      <td>75.9</td>\n",
       "      <td>NaN</td>\n",
       "      <td>40.217</td>\n",
       "      <td>NaN</td>\n",
       "      <td>9.43</td>\n",
       "    </tr>\n",
       "  </tbody>\n",
       "</table>\n",
       "</div>"
      ],
      "text/plain": [
       "indicator_name  Region   afm   bss   cex   con  fr        lff       lrd   mri  \\\n",
       "country_name                                                                    \n",
       "Afghanistan       Asia  21.5  34.3   NaN  21.8   1  15.479167  6.039311  64.1   \n",
       "Albania         Europe   NaN   NaN   NaN   NaN   0  42.444072  0.033876  11.8   \n",
       "Algeria         Africa   NaN   NaN  16.6   NaN   1  16.882805  0.344174  23.6   \n",
       "Andorra         Europe   NaN   NaN   NaN   NaN   0        NaN       NaN   4.3   \n",
       "Angola          Africa   NaN   NaN  27.2   NaN   1  49.850111  2.151459  75.9   \n",
       "\n",
       "indicator_name     nam    rpop       setf     ue  \n",
       "country_name                                      \n",
       "Afghanistan        NaN  76.263        NaN  11.52  \n",
       "Albania         4.0183  47.837  51.571091  14.09  \n",
       "Algeria         1.9470  32.460  35.421070   9.96  \n",
       "Andorra         4.7650  11.181        NaN    NaN  \n",
       "Angola             NaN  40.217        NaN   9.43  "
      ]
     },
     "execution_count": 65,
     "metadata": {},
     "output_type": "execute_result"
    }
   ],
   "source": [
    "data.fr = data.fr = data.fr.apply(lambda x: 0 if x < 2.1 else 1)\n",
    "data.head()"
   ]
  },
  {
   "cell_type": "code",
   "execution_count": 66,
   "id": "4cd8c451",
   "metadata": {},
   "outputs": [],
   "source": [
    "## Summary statistics"
   ]
  },
  {
   "cell_type": "code",
   "execution_count": 67,
   "id": "c70b2cc9",
   "metadata": {},
   "outputs": [
    {
     "data": {
      "text/html": [
       "<div>\n",
       "<style scoped>\n",
       "    .dataframe tbody tr th:only-of-type {\n",
       "        vertical-align: middle;\n",
       "    }\n",
       "\n",
       "    .dataframe tbody tr th {\n",
       "        vertical-align: top;\n",
       "    }\n",
       "\n",
       "    .dataframe thead th {\n",
       "        text-align: right;\n",
       "    }\n",
       "</style>\n",
       "<table border=\"1\" class=\"dataframe\">\n",
       "  <thead>\n",
       "    <tr style=\"text-align: right;\">\n",
       "      <th>indicator_name</th>\n",
       "      <th>afm</th>\n",
       "      <th>bss</th>\n",
       "      <th>cex</th>\n",
       "      <th>con</th>\n",
       "      <th>fr</th>\n",
       "      <th>lff</th>\n",
       "      <th>lrd</th>\n",
       "      <th>mri</th>\n",
       "      <th>nam</th>\n",
       "      <th>rpop</th>\n",
       "      <th>setf</th>\n",
       "      <th>ue</th>\n",
       "    </tr>\n",
       "  </thead>\n",
       "  <tbody>\n",
       "    <tr>\n",
       "      <th>count</th>\n",
       "      <td>77.000000</td>\n",
       "      <td>111.000000</td>\n",
       "      <td>129.000000</td>\n",
       "      <td>49.000000</td>\n",
       "      <td>198.000000</td>\n",
       "      <td>185.000000</td>\n",
       "      <td>183.000000</td>\n",
       "      <td>183.000000</td>\n",
       "      <td>152.000000</td>\n",
       "      <td>196.000000</td>\n",
       "      <td>123.000000</td>\n",
       "      <td>185.000000</td>\n",
       "    </tr>\n",
       "    <tr>\n",
       "      <th>mean</th>\n",
       "      <td>22.932468</td>\n",
       "      <td>71.836486</td>\n",
       "      <td>26.498450</td>\n",
       "      <td>39.614774</td>\n",
       "      <td>0.606061</td>\n",
       "      <td>40.854418</td>\n",
       "      <td>0.920860</td>\n",
       "      <td>25.775410</td>\n",
       "      <td>4.016938</td>\n",
       "      <td>42.981158</td>\n",
       "      <td>41.466081</td>\n",
       "      <td>8.254054</td>\n",
       "    </tr>\n",
       "    <tr>\n",
       "      <th>std</th>\n",
       "      <td>8.424267</td>\n",
       "      <td>38.866181</td>\n",
       "      <td>26.130125</td>\n",
       "      <td>29.397932</td>\n",
       "      <td>0.489860</td>\n",
       "      <td>9.497626</td>\n",
       "      <td>1.558962</td>\n",
       "      <td>25.032142</td>\n",
       "      <td>3.752545</td>\n",
       "      <td>23.571972</td>\n",
       "      <td>32.562444</td>\n",
       "      <td>5.998852</td>\n",
       "    </tr>\n",
       "    <tr>\n",
       "      <th>min</th>\n",
       "      <td>1.000000</td>\n",
       "      <td>1.000000</td>\n",
       "      <td>0.100000</td>\n",
       "      <td>1.000000</td>\n",
       "      <td>0.000000</td>\n",
       "      <td>11.413122</td>\n",
       "      <td>0.003041</td>\n",
       "      <td>1.000000</td>\n",
       "      <td>0.114000</td>\n",
       "      <td>1.000000</td>\n",
       "      <td>0.535210</td>\n",
       "      <td>0.450000</td>\n",
       "    </tr>\n",
       "    <tr>\n",
       "      <th>25%</th>\n",
       "      <td>21.600000</td>\n",
       "      <td>46.400000</td>\n",
       "      <td>1.000000</td>\n",
       "      <td>13.300000</td>\n",
       "      <td>0.000000</td>\n",
       "      <td>37.768001</td>\n",
       "      <td>0.032675</td>\n",
       "      <td>5.450000</td>\n",
       "      <td>0.869200</td>\n",
       "      <td>23.528250</td>\n",
       "      <td>10.881490</td>\n",
       "      <td>4.030000</td>\n",
       "    </tr>\n",
       "    <tr>\n",
       "      <th>50%</th>\n",
       "      <td>24.400000</td>\n",
       "      <td>98.200000</td>\n",
       "      <td>20.200000</td>\n",
       "      <td>46.100000</td>\n",
       "      <td>1.000000</td>\n",
       "      <td>43.917519</td>\n",
       "      <td>0.164156</td>\n",
       "      <td>16.200000</td>\n",
       "      <td>2.829800</td>\n",
       "      <td>42.997000</td>\n",
       "      <td>37.792278</td>\n",
       "      <td>7.150000</td>\n",
       "    </tr>\n",
       "    <tr>\n",
       "      <th>75%</th>\n",
       "      <td>28.500000</td>\n",
       "      <td>99.450000</td>\n",
       "      <td>43.600000</td>\n",
       "      <td>65.600000</td>\n",
       "      <td>1.000000</td>\n",
       "      <td>47.251744</td>\n",
       "      <td>0.956909</td>\n",
       "      <td>42.100000</td>\n",
       "      <td>5.732825</td>\n",
       "      <td>61.474750</td>\n",
       "      <td>66.681480</td>\n",
       "      <td>10.850000</td>\n",
       "    </tr>\n",
       "    <tr>\n",
       "      <th>max</th>\n",
       "      <td>33.200000</td>\n",
       "      <td>99.960000</td>\n",
       "      <td>93.700000</td>\n",
       "      <td>89.100000</td>\n",
       "      <td>1.000000</td>\n",
       "      <td>54.160085</td>\n",
       "      <td>8.463112</td>\n",
       "      <td>107.200000</td>\n",
       "      <td>16.665900</td>\n",
       "      <td>89.358000</td>\n",
       "      <td>118.624901</td>\n",
       "      <td>32.020000</td>\n",
       "    </tr>\n",
       "  </tbody>\n",
       "</table>\n",
       "</div>"
      ],
      "text/plain": [
       "indicator_name        afm         bss         cex        con          fr  \\\n",
       "count           77.000000  111.000000  129.000000  49.000000  198.000000   \n",
       "mean            22.932468   71.836486   26.498450  39.614774    0.606061   \n",
       "std              8.424267   38.866181   26.130125  29.397932    0.489860   \n",
       "min              1.000000    1.000000    0.100000   1.000000    0.000000   \n",
       "25%             21.600000   46.400000    1.000000  13.300000    0.000000   \n",
       "50%             24.400000   98.200000   20.200000  46.100000    1.000000   \n",
       "75%             28.500000   99.450000   43.600000  65.600000    1.000000   \n",
       "max             33.200000   99.960000   93.700000  89.100000    1.000000   \n",
       "\n",
       "indicator_name         lff         lrd         mri         nam        rpop  \\\n",
       "count           185.000000  183.000000  183.000000  152.000000  196.000000   \n",
       "mean             40.854418    0.920860   25.775410    4.016938   42.981158   \n",
       "std               9.497626    1.558962   25.032142    3.752545   23.571972   \n",
       "min              11.413122    0.003041    1.000000    0.114000    1.000000   \n",
       "25%              37.768001    0.032675    5.450000    0.869200   23.528250   \n",
       "50%              43.917519    0.164156   16.200000    2.829800   42.997000   \n",
       "75%              47.251744    0.956909   42.100000    5.732825   61.474750   \n",
       "max              54.160085    8.463112  107.200000   16.665900   89.358000   \n",
       "\n",
       "indicator_name        setf          ue  \n",
       "count           123.000000  185.000000  \n",
       "mean             41.466081    8.254054  \n",
       "std              32.562444    5.998852  \n",
       "min               0.535210    0.450000  \n",
       "25%              10.881490    4.030000  \n",
       "50%              37.792278    7.150000  \n",
       "75%              66.681480   10.850000  \n",
       "max             118.624901   32.020000  "
      ]
     },
     "execution_count": 67,
     "metadata": {},
     "output_type": "execute_result"
    }
   ],
   "source": [
    "data.describe()"
   ]
  },
  {
   "cell_type": "markdown",
   "id": "a2025d26",
   "metadata": {},
   "source": [
    "From the table above we see a lot of variables are missing data. This will have to be taken into account in further analysis.\n",
    "- Opportunity to use imputation?\n",
    "Also a lot of minimums of 1.0. This will have to be checked."
   ]
  },
  {
   "cell_type": "code",
   "execution_count": 86,
   "id": "936a7dcd",
   "metadata": {},
   "outputs": [
    {
     "data": {
      "image/png": "[encoded data removed]",
      "text/plain": [
       "<Figure size 1224x720 with 12 Axes>"
      ]
     },
     "metadata": {
      "needs_background": "light"
     },
     "output_type": "display_data"
    }
   ],
   "source": [
    "#define columns with independent numeric variables\n",
    "numeric_ind = ['afm', 'lrd', 'nam', 'rpop', 'lff', 'ue', 'setf', 'mri', 'bss', 'con', 'cex']\n",
    "data[numeric_ind].plot.hist(subplots = True, layout = (3,4), figsize = (17,10), sharex = False, bins = 20);\n"
   ]
  },
  {
   "cell_type": "markdown",
   "id": "1023f12b",
   "metadata": {},
   "source": [
    "Although some variables are displayed well, we can get a rough feeling for the distribution of others. One thing that's noticable is the amount of values around 1. Considering how many minimum values at 1.0 we saw in the summary statistics, it's possible that these peaks are at exactly 1. This makes me wonder if the data is real. For some variables with a peak at 1.0 (Age at first marriage, Births attended by skilled health staff, School enrollment, tertiary, female (% gross), or afm, bss, setf), this seems quite unlikely that the values at 1.0 real. Let's look at the frequency of values at 1.0 per row."
   ]
  },
  {
   "cell_type": "code",
   "execution_count": 90,
   "id": "9d18ee8c",
   "metadata": {},
   "outputs": [
    {
     "data": {
      "text/plain": [
       "indicator_name\n",
       "afm      8\n",
       "lrd      0\n",
       "nam      0\n",
       "rpop     5\n",
       "lff      0\n",
       "ue       2\n",
       "setf     0\n",
       "mri     11\n",
       "bss     20\n",
       "con      8\n",
       "cex     18\n",
       "dtype: int64"
      ]
     },
     "execution_count": 90,
     "metadata": {},
     "output_type": "execute_result"
    }
   ],
   "source": [
    "data[numeric_ind][data[numeric_ind] == 1].count()"
   ]
  },
  {
   "cell_type": "markdown",
   "id": "cb194061",
   "metadata": {},
   "source": [
    "Although a 1.0 for some of these factors is more plausable than for others, to be safe (and consistent) we'll replace all the 1.0's with nan."
   ]
  },
  {
   "cell_type": "code",
   "execution_count": 94,
   "id": "a2ba447d",
   "metadata": {},
   "outputs": [],
   "source": [
    "data[numeric_ind] = data[numeric_ind].replace(1,np.nan)"
   ]
  },
  {
   "cell_type": "markdown",
   "id": "cba33c7e",
   "metadata": {},
   "source": [
    "## Further Data Exploration\n",
    "Let's see how much fertility rate data we're working with"
   ]
  },
  {
   "cell_type": "code",
   "execution_count": 100,
   "id": "a18cb019",
   "metadata": {},
   "outputs": [
    {
     "data": {
      "image/png": "[encoded data removed]",
      "text/plain": [
       "<Figure size 432x288 with 1 Axes>"
      ]
     },
     "metadata": {},
     "output_type": "display_data"
    }
   ],
   "source": [
    "sns.set(font_scale = 1.5)\n",
    "sns.histplot(data = data, x = 'fr');"
   ]
  },
  {
   "cell_type": "markdown",
   "id": "1edeb5fa",
   "metadata": {},
   "source": [
    "About 75 datapoints where fertility rate is below replacement rate, and about 120 above. Not a perfect split, but not bad.\n",
    "Let's see now how they're broken down by region."
   ]
  },
  {
   "cell_type": "code",
   "execution_count": 117,
   "id": "76ad0e08",
   "metadata": {},
   "outputs": [
    {
     "data": {
      "image/png": "[encoded data removed]",
      "text/plain": [
       "<Figure size 432x288 with 1 Axes>"
      ]
     },
     "metadata": {},
     "output_type": "display_data"
    }
   ],
   "source": [
    "sns.set(font_scale = 1.2)\n",
    "dataR = data[['Region','fr']].groupby(['Region','fr']).size().reset_index(name = 'count')\n",
    "g = sns.barplot(data = dataR, x = 'Region', y = 'count', hue = 'fr');\n",
    "plt.xticks(rotation=60);"
   ]
  }
 ],
 "metadata": {
  "kernelspec": {
   "display_name": "Python 3",
   "language": "python",
   "name": "python3"
  },
  "language_info": {
   "codemirror_mode": {
    "name": "ipython",
    "version": 3
   },
   "file_extension": ".py",
   "mimetype": "text/x-python",
   "name": "python",
   "nbconvert_exporter": "python",
   "pygments_lexer": "ipython3",
   "version": "3.8.8"
  }
 },
 "nbformat": 4,
 "nbformat_minor": 5
}
